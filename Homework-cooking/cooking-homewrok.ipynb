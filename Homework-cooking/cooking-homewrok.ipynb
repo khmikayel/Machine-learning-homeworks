{
 "cells": [
  {
   "cell_type": "code",
   "execution_count": 1,
   "metadata": {},
   "outputs": [],
   "source": [
    "#In this notebook machine learning is used to solve one interseting problem.\n",
    "#we are going to create a programm, which is able to guesse to which countries cuisine belongs the receipe\n",
    "#according to its ingredients. It is quite a natural problem, because the ingredients are strongly connected with\n",
    "#the country to which cuisine the food belongs. Every expert cook can do such kind of classification, Now we want the\n",
    "#computer to be as smart as an expert cook in this problem.\n",
    "\n",
    "#\n",
    "import json \n",
    "import pandas as pd\n",
    "import numpy as np\n",
    "import nltk\n",
    "\n",
    "from collections import defaultdict\n",
    "\n",
    "from nltk.tokenize import word_tokenize\n",
    "from nltk.corpus import wordnet as wn\n",
    "from nltk import pos_tag\n",
    "from nltk.stem import WordNetLemmatizer\n",
    "from nltk.corpus import stopwords\n",
    "\n",
    "from sklearn.preprocessing import LabelEncoder\n",
    "from sklearn.feature_extraction.text import TfidfVectorizer\n",
    "from sklearn import model_selection\n",
    "from sklearn.metrics import accuracy_score\n",
    "\n",
    "from sklearn import svm\n",
    "from sklearn.neighbors import KNeighborsClassifier"
   ]
  },
  {
   "cell_type": "code",
   "execution_count": 2,
   "metadata": {},
   "outputs": [],
   "source": [
    "with open('train.json') as f:\n",
    "     data = pd.DataFrame(json.load(f))"
   ]
  },
  {
   "cell_type": "code",
   "execution_count": 3,
   "metadata": {},
   "outputs": [],
   "source": [
    "def process_ingredients(ingredient_list):\n",
    "    \n",
    "    tag_map = defaultdict(lambda : wn.NOUN)\n",
    "    tag_map['J'] = wn.ADJ\n",
    "    tag_map['V'] = wn.VERB\n",
    "    tag_map['R'] = wn.ADV\n",
    "    \n",
    "    separator = ' '\n",
    "    tokenized_list = word_tokenize(separator.join(ingredient_list).lower())\n",
    "    \n",
    "    final_words = []\n",
    "    word_Lemmatized = WordNetLemmatizer()\n",
    "    \n",
    "    for word, tag in pos_tag(tokenized_list):\n",
    "        if word not in stopwords.words('english') and word.isalpha():\n",
    "            final_word = word_Lemmatized.lemmatize(word,tag_map[tag[0]])\n",
    "            final_words.append(final_word)\n",
    "            \n",
    "    return separator.join(final_words)"
   ]
  },
  {
   "cell_type": "code",
   "execution_count": 4,
   "metadata": {},
   "outputs": [],
   "source": [
    "data['ingredients'] = data['ingredients'].apply(process_ingredients)"
   ]
  },
  {
   "cell_type": "code",
   "execution_count": 5,
   "metadata": {},
   "outputs": [],
   "source": [
    "train_x, test_x, train_y, test_y = model_selection.train_test_split(data['ingredients'],data['cuisine'],test_size=0.3)\n",
    "\n",
    "label_encoder = LabelEncoder()\n",
    "\n",
    "train_y_encoded = label_encoder.fit_transform(train_y)\n",
    "test_y_encoded = label_encoder.transform(test_y)"
   ]
  },
  {
   "cell_type": "code",
   "execution_count": 6,
   "metadata": {},
   "outputs": [],
   "source": [
    "tfidf_vect = TfidfVectorizer(max_features=6000)\n",
    "\n",
    "tfidf_vect.fit(train_x)\n",
    "train_x_tfidf = tfidf_vect.transform(train_x)\n",
    "test_x_tfidf = tfidf_vect.transform(test_x)"
   ]
  },
  {
   "cell_type": "code",
   "execution_count": 13,
   "metadata": {},
   "outputs": [
    {
     "name": "stdout",
     "output_type": "stream",
     "text": [
      "SVM Accuracy Score ->  78.0273191988603\n"
     ]
    }
   ],
   "source": [
    "svm = svm.SVC(C=1.0, kernel='linear', degree=3, gamma='auto')\n",
    "svm.fit(train_x_tfidf,train_y_encoded)\n",
    "predictions_svm = svm.predict(test_x_tfidf)\n",
    "print(\"SVM Accuracy Score -> \",accuracy_score(predictions_svm, test_y_encoded)*100)"
   ]
  },
  {
   "cell_type": "code",
   "execution_count": 27,
   "metadata": {},
   "outputs": [
    {
     "name": "stdout",
     "output_type": "stream",
     "text": [
      "SVM with rbf kernel Accuracy Score ->  79.24243693957932\n"
     ]
    }
   ],
   "source": [
    "svm_rbf = svm.SVC(C=1.0, kernel='rbf', degree=3, gamma=1.5)\n",
    "svm_rbf.fit(train_x_tfidf,train_y_encoded)\n",
    "predictions_svm_rbf = svm_rbf.predict(test_x_tfidf)\n",
    "print(\"SVM with rbf kernel Accuracy Score -> \",accuracy_score(predictions_svm_rbf, test_y_encoded)*100)"
   ]
  },
  {
   "cell_type": "code",
   "execution_count": 26,
   "metadata": {},
   "outputs": [
    {
     "name": "stdout",
     "output_type": "stream",
     "text": [
      "KNN Accuracy Score ->  65.79234056817229\n"
     ]
    }
   ],
   "source": [
    "knn = KNeighborsClassifier(n_neighbors = 11, weights = 'distance')\n",
    "knn.fit(train_x_tfidf[0:2000],train_y_encoded[0:2000])\n",
    "predictions_knn = knn.predict(test_x_tfidf)\n",
    "print(\"KNN Accuracy Score -> \",accuracy_score(predictions_knn, test_y_encoded)*100)"
   ]
  },
  {
   "cell_type": "code",
   "execution_count": null,
   "metadata": {},
   "outputs": [],
   "source": []
  }
 ],
 "metadata": {
  "kernelspec": {
   "display_name": "Python 3",
   "language": "python",
   "name": "python3"
  },
  "language_info": {
   "codemirror_mode": {
    "name": "ipython",
    "version": 3
   },
   "file_extension": ".py",
   "mimetype": "text/x-python",
   "name": "python",
   "nbconvert_exporter": "python",
   "pygments_lexer": "ipython3",
   "version": "3.8.3"
  }
 },
 "nbformat": 4,
 "nbformat_minor": 4
}
