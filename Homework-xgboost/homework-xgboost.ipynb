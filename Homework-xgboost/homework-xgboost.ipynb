{
 "cells": [
  {
   "cell_type": "code",
   "execution_count": 174,
   "metadata": {},
   "outputs": [],
   "source": [
    "from sklearn import datasets\n",
    "from sklearn.model_selection import train_test_split\n",
    "from sklearn.metrics import accuracy_score\n",
    "from pandas import DataFrame\n",
    "import matplotlib.pyplot as plt\n",
    "import numpy as np\n",
    "import xgboost as xgb"
   ]
  },
  {
   "cell_type": "code",
   "execution_count": 175,
   "metadata": {},
   "outputs": [
    {
     "name": "stdout",
     "output_type": "stream",
     "text": [
      "     sepal width  sepal length\n",
      "0            5.1           3.5\n",
      "1            4.9           3.0\n",
      "2            4.7           3.2\n",
      "3            4.6           3.1\n",
      "4            5.0           3.6\n",
      "..           ...           ...\n",
      "145          6.7           3.0\n",
      "146          6.3           2.5\n",
      "147          6.5           3.0\n",
      "148          6.2           3.4\n",
      "149          5.9           3.0\n",
      "\n",
      "[150 rows x 2 columns]\n"
     ]
    }
   ],
   "source": [
    "iris = datasets.load_iris()\n",
    "iris_data_frame = DataFrame()\n",
    "iris_data_frame['sepal width'] = iris.data[:, 0]\n",
    "iris_data_frame['sepal length'] = iris.data[:, 1] # we only take the first two features.\n",
    "y = iris.target\n",
    "print(iris_data_frame)"
   ]
  },
  {
   "cell_type": "code",
   "execution_count": 176,
   "metadata": {},
   "outputs": [
    {
     "name": "stdout",
     "output_type": "stream",
     "text": [
      "Acuuracy of classification on test data is: 0.9\n"
     ]
    }
   ],
   "source": [
    "x_train, x_test, y_train, y_test = train_test_split(iris_data_frame, y, train_size = 0.8)\n",
    "dtrain = xgb.DMatrix(x_train, label=y_train)\n",
    "params = {'objective' : 'multi:softmax', 'num_class' : 3}\n",
    "bst = xgb.train(params, dtrain)\n",
    "dtest = xgb.DMatrix(x_train)\n",
    "ypred = bst.predict(dtest)\n",
    "print(\"Acuuracy of classification on test data is:\", accuracy_score(ypred, y_train))"
   ]
  },
  {
   "cell_type": "code",
   "execution_count": 177,
   "metadata": {},
   "outputs": [],
   "source": [
    "#adding  more features to dataset\n",
    "iris_data_frame['width/length'] = iris_data_frame['sepal width'] / iris_data_frame['sepal length']\n",
    "iris_data_frame['|width - length|'] = np.abs(iris_data_frame['sepal width'] - iris_data_frame['sepal length'])\n",
    "iris_data_frame['ln(width)'] = np.log(iris_data_frame['sepal length'])\n",
    "iris_data_frame['ln(length)'] = np.log(iris_data_frame['sepal width'])\n",
    "iris_data_frame['exp(width)'] = np.exp(iris_data_frame['sepal length'])\n",
    "iris_data_frame['exp(length)'] = np.exp(iris_data_frame['sepal width'])"
   ]
  },
  {
   "cell_type": "code",
   "execution_count": 178,
   "metadata": {},
   "outputs": [
    {
     "name": "stdout",
     "output_type": "stream",
     "text": [
      "     sepal width  sepal length  width/length  |width - length|  ln(width)  \\\n",
      "0            5.1           3.5      1.457143               1.6   1.252763   \n",
      "1            4.9           3.0      1.633333               1.9   1.098612   \n",
      "2            4.7           3.2      1.468750               1.5   1.163151   \n",
      "3            4.6           3.1      1.483871               1.5   1.131402   \n",
      "4            5.0           3.6      1.388889               1.4   1.280934   \n",
      "..           ...           ...           ...               ...        ...   \n",
      "145          6.7           3.0      2.233333               3.7   1.098612   \n",
      "146          6.3           2.5      2.520000               3.8   0.916291   \n",
      "147          6.5           3.0      2.166667               3.5   1.098612   \n",
      "148          6.2           3.4      1.823529               2.8   1.223775   \n",
      "149          5.9           3.0      1.966667               2.9   1.098612   \n",
      "\n",
      "     ln(length)  exp(width)  exp(length)  \n",
      "0      1.629241   33.115452   164.021907  \n",
      "1      1.589235   20.085537   134.289780  \n",
      "2      1.547563   24.532530   109.947172  \n",
      "3      1.526056   22.197951    99.484316  \n",
      "4      1.609438   36.598234   148.413159  \n",
      "..          ...         ...          ...  \n",
      "145    1.902108   20.085537   812.405825  \n",
      "146    1.840550   12.182494   544.571910  \n",
      "147    1.871802   20.085537   665.141633  \n",
      "148    1.824549   29.964100   492.749041  \n",
      "149    1.774952   20.085537   365.037468  \n",
      "\n",
      "[150 rows x 8 columns]\n"
     ]
    }
   ],
   "source": [
    "print(iris_data_frame)"
   ]
  },
  {
   "cell_type": "code",
   "execution_count": 179,
   "metadata": {},
   "outputs": [
    {
     "name": "stdout",
     "output_type": "stream",
     "text": [
      "Acuuracy of classification with added features is: 0.8666666666666667\n"
     ]
    }
   ],
   "source": [
    "x_train, x_test = train_test_split(iris_data_frame, train_size = 0.8)\n",
    "dtrain = xgb.DMatrix(x_train, label=y_train)\n",
    "bst = xgb.train(params, dtrain)\n",
    "dtest = xgb.DMatrix(x_train)\n",
    "ypred = bst.predict(dtest)\n",
    "print(\"Acuuracy of classification with added features is:\", accuracy_score(ypred, y_train))"
   ]
  },
  {
   "cell_type": "code",
   "execution_count": 180,
   "metadata": {},
   "outputs": [
    {
     "data": {
      "image/png": "[encoded data removed]",
      "text/plain": [
       "<Figure size 1440x720 with 5 Axes>"
      ]
     },
     "metadata": {
      "needs_background": "light"
     },
     "output_type": "display_data"
    }
   ],
   "source": [
    "importance_gain = bst.get_score(fmap='', importance_type='gain')\n",
    "importance_weight = bst.get_score(fmap='', importance_type='weight')\n",
    "importance_cover = bst.get_score(fmap='', importance_type='cover')\n",
    "importance_total_gain = bst.get_score(fmap='', importance_type='total_gain')\n",
    "importance_total_cover = bst.get_score(fmap='', importance_type='total_cover')\n",
    "\n",
    "plt.figure(figsize=(20, 10))\n",
    "plt.subplot(231)\n",
    "plt.bar(importance_gain.keys(), importance_gain.values())\n",
    "plt.subplot(232)\n",
    "plt.bar(importance_weight.keys(), importance_weight.values())\n",
    "plt.subplot(233)\n",
    "plt.bar(importance_cover.keys(), importance_cover.values())\n",
    "plt.subplot(234)\n",
    "plt.bar(importance_total_gain.keys(), importance_total_gain.values())\n",
    "plt.subplot(235)\n",
    "plt.bar(importance_total_cover.keys(), importance_total_cover.values())\n",
    "plt.show()"
   ]
  },
  {
   "cell_type": "markdown",
   "metadata": {},
   "source": [
    "Feature selection can be benefitial for machiine learning tasks in many different ways <br>\n",
    "<b>1. Understanding the problem.</b>\n",
    "It is always interesting to find out what factors really matter while getting the result of an experiment.\n",
    "It gives more deep understanding of the problem and can lead to some meaningful and valuable assumptions about the process you are investigating. <br>\n",
    "<b>2. Making your model to fit and predict faster.</b>\n",
    "It is obviouse that the lower the dimensionality of the data is, the faster algorythms fit and predict on that data.<br>\n",
    "<b>3. Accuracy of predictions.</b>\n",
    "Geting rid of unnecessary features gives additional accuracy to the prediction, because unnecessary features tend to distract your learning algorythm."
   ]
  }
 ],
 "metadata": {
  "kernelspec": {
   "display_name": "Python 3",
   "language": "python",
   "name": "python3"
  },
  "language_info": {
   "codemirror_mode": {
    "name": "ipython",
    "version": 3
   },
   "file_extension": ".py",
   "mimetype": "text/x-python",
   "name": "python",
   "nbconvert_exporter": "python",
   "pygments_lexer": "ipython3",
   "version": "3.8.5"
  }
 },
 "nbformat": 4,
 "nbformat_minor": 4
}
